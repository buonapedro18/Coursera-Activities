{
 "cells": [
  {
   "cell_type": "markdown",
   "metadata": {},
   "source": [
    "<center>\n",
    "    <img src=\"https://cf-courses-data.s3.us.cloud-object-storage.appdomain.cloud/IBMDeveloperSkillsNetwork-DS0105EN-SkillsNetwork/labs/Module2/images/SN_web_lightmode.png\" width=\"300\" alt=\"cognitiveclass.ai logo\">\n",
    "</center>\n"
   ]
  },
  {
   "cell_type": "markdown",
   "metadata": {},
   "source": [
    "#### Add your code below following the instructions given in the course\n"
   ]
  },
  {
   "cell_type": "markdown",
   "metadata": {},
   "source": [
    "# Data Science Tools and Ecosystem"
   ]
  },
  {
   "cell_type": "markdown",
   "metadata": {},
   "source": [
    "## Author\n",
    "Pedro Buonamici Sormani Pereira"
   ]
  },
  {
   "cell_type": "markdown",
   "metadata": {},
   "source": [
    "In this Notebook, Data Science Tools and Ecosystem are summarized"
   ]
  },
  {
   "cell_type": "markdown",
   "metadata": {},
   "source": [
    "### **Objectives**:\n",
    "- List popular languages.\n",
    "- List commonly used libraries.\n",
    "- List data science tools.\n",
    "- List arithmetic expressions in Python.\n",
    "- Code to multiply and add integers.\n",
    "- Code to transfor minutes into hours."
   ]
  },
  {
   "cell_type": "markdown",
   "metadata": {},
   "source": [
    "### Popular languages:\n",
    "1. Python\n",
    "2. R\n",
    "3. SQL\n",
    "4. Java\n",
    "5. Scala\n",
    "6. C++\n",
    "7. Javascript\n",
    "8. Julia"
   ]
  },
  {
   "cell_type": "markdown",
   "metadata": {},
   "source": [
    "### Commonly Used Libraries:\n",
    "#### Python Libraries:\n",
    "1. Pandas\n",
    "2. NumPy\n",
    "3. Matplotlib\n",
    "4. Seaborn\n",
    "5. SciKit\n",
    "#### R libraries:\n",
    "1. GGplot2\n"
   ]
  },
  {
   "cell_type": "markdown",
   "metadata": {},
   "source": [
    "### Data Science Tools:\n",
    "#### Data Management Tools: \n",
    "1. MySQL\n",
    "2. PostgreSQL\n",
    "3. Apache CouchDB\n",
    "4. Mongo DB\n",
    "5. IBM DB2\n",
    "#### Data Integration and Transformation Tools:\n",
    "1. Apache Airflow\n",
    "2. Kubeflow\n",
    "3. Apache Kafta\n",
    "4. IBM Data Refinery\n",
    "#### Data Visualization Tools:\n",
    "1. PixieDust\n",
    "2. Due\n",
    "3. Kibana\n",
    "4. Tableau\n",
    "5. PowerBI\n",
    "#### Model Deployment Tools:\n",
    "1. Apache PredictionIO\n",
    "2. Kubernetes\n",
    "3. MLeap\n",
    "4. TensorFlow Lite\n",
    "#### Model Monitoring and Assessment Tools:\n",
    "1. ModelDB\n",
    "2. Prometheus\n",
    "3. IBM AI Fairness 360\n",
    "#### Code Development and Execution Tools:\n",
    "1. Jupyter IDE\n",
    "2. RStudio\n",
    "3. Spyder\n",
    "4. Anaconda Navigator\n",
    "#### Code asset Management Tools:\n",
    "1. Git\n",
    "2. GitLab\n",
    "3. GitHub\n",
    "4. Bitbucket"
   ]
  },
  {
   "cell_type": "markdown",
   "metadata": {},
   "source": [
    "### Arithmetic Expressions in Python\n",
    "1. **Addition**: `5 + 3` evaluates to `8`.\n",
    "2. **Subtraction**: `10 - 4` evaluates to `6`.\n",
    "3. **Multiplication**: `7 * 6` evaluates to `42`.\n",
    "4. **Division**: `20 / 4` evaluates to `5.0`.\n",
    "5. **Floor Division**: `20 // 3` evaluates to `6` (quotient without the remainder).\n",
    "6. **Modulus**: `20 % 3` evaluates to `2` (remainder of the division).\n",
    "7. **Exponentiation**: `2 ** 3` evaluates to `8`.\n",
    "8. **Parentheses for Precedence**: `(2 + 3) * 4` evaluates to `20`.\n",
    "9. **Mixed Operations**: `5 + 3 * 2 - 8 / 4` evaluates to `9.0` (order of operations applied).\n",
    "10. **Negative Numbers**: `-5 + 4` evaluates to `-1`."
   ]
  },
  {
   "cell_type": "code",
   "execution_count": 2,
   "metadata": {},
   "outputs": [
    {
     "data": {
      "text/plain": [
       "17"
      ]
     },
     "execution_count": 2,
     "metadata": {},
     "output_type": "execute_result"
    }
   ],
   "source": [
    "# Code to multiply and add numbers:\n",
    "# This is a simple arithmetic expression to multiply then add integers\n",
    "(3*4)+5"
   ]
  },
  {
   "cell_type": "code",
   "execution_count": 5,
   "metadata": {},
   "outputs": [
    {
     "data": {
      "text/plain": [
       "3.3333333333333335"
      ]
     },
     "execution_count": 5,
     "metadata": {},
     "output_type": "execute_result"
    }
   ],
   "source": [
    "# This will convert 200 minutes into hours by dividing by 60\n",
    "200/60"
   ]
  },
  {
   "cell_type": "code",
   "execution_count": null,
   "metadata": {},
   "outputs": [],
   "source": []
  }
 ],
 "metadata": {
  "kernelspec": {
   "display_name": "Python 3 (ipykernel)",
   "language": "python",
   "name": "python3"
  },
  "language_info": {
   "codemirror_mode": {
    "name": "ipython",
    "version": 3
   },
   "file_extension": ".py",
   "mimetype": "text/x-python",
   "name": "python",
   "nbconvert_exporter": "python",
   "pygments_lexer": "ipython3",
   "version": "3.11.9"
  }
 },
 "nbformat": 4,
 "nbformat_minor": 4
}
